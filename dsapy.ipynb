{
  "cells": [
    {
      "cell_type": "markdown",
      "metadata": {
        "id": "view-in-github",
        "colab_type": "text"
      },
      "source": [
        "<a href=\"https://colab.research.google.com/github/MohamedAathilM/htmldemopage/blob/main/dsapy.ipynb\" target=\"_parent\"><img src=\"https://colab.research.google.com/assets/colab-badge.svg\" alt=\"Open In Colab\"/></a>"
      ]
    },
    {
      "cell_type": "markdown",
      "metadata": {
        "id": "9y3cbF_ir5hJ"
      },
      "source": [
        "integers are immutable so variables cannot be changed.\n",
        "in dict we can change the value\n",
        "where no variable is pointing to that value .then we cant access it so python removes by the process called  garbage collection."
      ]
    },
    {
      "cell_type": "code",
      "source": [
        "def find_duplicates(nums):\n",
        "    # create an empty hash table\n",
        "    num_counts = {}\n",
        "\n",
        "    # iterate through each number in the array\n",
        "    for num in nums:\n",
        "        # add the number to the hash table or increment its count if it's already in the hash table\n",
        "        num_counts[num] = num_counts.get(num, 0) + 1\n",
        "\n",
        "    # create a list of the numbers that appear more than once in the input array\n",
        "    duplicates = [num for num, count in num_counts.items() if count > 1]\n",
        "    em=[]\n",
        "    for k,v in num_counts.items():\n",
        "        if v>1:\n",
        "            em.append(k)\n",
        "\n",
        "    # return the list of duplicates\n",
        "    return duplicates\n",
        "\n",
        "nums = [1, 3, 4, 5,2, 5, 6]\n",
        "result = find_duplicates(nums)\n",
        "print(result)\n",
        "# Output: [2, 5]"
      ],
      "metadata": {
        "colab": {
          "base_uri": "https://localhost:8080/"
        },
        "id": "d0t-zA89A0RX",
        "outputId": "f391e6b3-ce28-4a32-e5b4-71d5a91b31f2"
      },
      "execution_count": 1,
      "outputs": [
        {
          "output_type": "stream",
          "name": "stdout",
          "text": [
            "[5]\n"
          ]
        }
      ]
    },
    {
      "cell_type": "code",
      "source": [
        "print(1,end='',2)\n",
        "print(2)"
      ],
      "metadata": {
        "id": "PADwlSCMFlwd",
        "colab": {
          "base_uri": "https://localhost:8080/",
          "height": 141
        },
        "outputId": "f025b222-53e6-4c85-ea11-f7edc2379d9e"
      },
      "execution_count": null,
      "outputs": [
        {
          "output_type": "error",
          "ename": "SyntaxError",
          "evalue": "ignored",
          "traceback": [
            "\u001b[0;36m  File \u001b[0;32m\"<ipython-input-3-b186927f5d38>\"\u001b[0;36m, line \u001b[0;32m1\u001b[0m\n\u001b[0;31m    print(1,end='',2)\u001b[0m\n\u001b[0m                    ^\u001b[0m\n\u001b[0;31mSyntaxError\u001b[0m\u001b[0;31m:\u001b[0m positional argument follows keyword argument\n"
          ]
        }
      ]
    },
    {
      "cell_type": "code",
      "source": [
        "class lap():\n",
        "  drink=\"\"\n",
        "  def __init__(self):\n",
        "    self.price=0\n",
        "    self.ram=\"\"\n",
        "\n",
        "\n",
        "dell=lap()\n",
        "sony=lap()\n",
        "dell.price=10000\n",
        "dell.ram=\"8gb\"\n",
        "dell.heat=10\n",
        "dell.drink=\"yes\"\n",
        "sony.drink=\"No\"\n",
        "print(dell.drink)\n",
        "print(sony.drink)"
      ],
      "metadata": {
        "colab": {
          "base_uri": "https://localhost:8080/"
        },
        "id": "hFFZ_JAW9v12",
        "outputId": "fa477746-0416-48e8-b657-815f2151c9ac"
      },
      "execution_count": null,
      "outputs": [
        {
          "output_type": "stream",
          "name": "stdout",
          "text": [
            "yes\n",
            "No\n"
          ]
        }
      ]
    },
    {
      "cell_type": "code",
      "source": [
        "def sort(lst):\n",
        "    s=False\n",
        "    for i in range(len(lst)-1,0,-1):\n",
        "        print(i)\n",
        "        for j in range(i):\n",
        "            if lst[j] > lst[j+1]:\n",
        "                s=True\n",
        "                lst[j],lst[j+1] = lst[j+1],lst[j]\n",
        "\n",
        "\n",
        "    return lst\n",
        "nums =  [64, 34, 25, 12, 22, 11, 90]\n",
        "print(sort(nums))\n",
        "\n"
      ],
      "metadata": {
        "id": "H8Bwy3d6lPOE",
        "colab": {
          "base_uri": "https://localhost:8080/"
        },
        "outputId": "befdf9aa-4484-4ff8-b8d8-70d0e4cda96f"
      },
      "execution_count": null,
      "outputs": [
        {
          "output_type": "stream",
          "name": "stdout",
          "text": [
            "6\n",
            "5\n",
            "4\n",
            "3\n",
            "2\n",
            "1\n",
            "[11, 12, 22, 25, 34, 64, 90]\n"
          ]
        }
      ]
    },
    {
      "cell_type": "code",
      "source": [
        "mylist = [\"a\", \"b\", \"a\", \"c\", \"c\"]\n",
        "newlist=[]\n",
        "for i in range(len(mylist)-1):\n",
        "  for j in range(i+1,len(mylist)):\n",
        "    if mylist[i]!=mylist[j]:\n",
        "      newlist.append(mylist[i])\n",
        "\n",
        "print(newlist)"
      ],
      "metadata": {
        "colab": {
          "base_uri": "https://localhost:8080/"
        },
        "id": "viXUpphpKgD7",
        "outputId": "9675c5fe-ddb8-4f3d-8539-9849577c646e"
      },
      "execution_count": null,
      "outputs": [
        {
          "output_type": "stream",
          "name": "stdout",
          "text": [
            "['a', 'a', 'a', 'b', 'b', 'b', 'a', 'a']\n"
          ]
        }
      ]
    },
    {
      "cell_type": "code",
      "source": [
        "original_string = \"Hello, World!\"\n",
        "reversed_string = \"\"\n",
        "for char in original_string:\n",
        "    reversed_string = char + reversed_string\n",
        "print(reversed_string)  # Output: \"!dlroW ,olleH\"\n"
      ],
      "metadata": {
        "colab": {
          "base_uri": "https://localhost:8080/"
        },
        "id": "gjN8bz6DSHA8",
        "outputId": "7302ceb8-fba7-436b-9077-9f7c3d1ea78a"
      },
      "execution_count": null,
      "outputs": [
        {
          "output_type": "stream",
          "name": "stdout",
          "text": [
            "!dlroW ,olleH\n"
          ]
        }
      ]
    },
    {
      "cell_type": "code",
      "source": [
        "original_string = \"Hello, World!\"\n",
        "reversed_string=list(reversed(original_string))\n",
        "reversed_string = ''.join(reversed_string)\n",
        "\n",
        "print(*reversed_string)  # Output: \"!dlroW ,olleH\"\n",
        "\n",
        "\n",
        "vowels = ['a', 'e', 'i', 'o', 'u']\n",
        "print((reversed(vowels)))\n"
      ],
      "metadata": {
        "colab": {
          "base_uri": "https://localhost:8080/"
        },
        "id": "NayDUPkrTECb",
        "outputId": "64cf63a6-4486-4910-a45e-374d645ff366"
      },
      "execution_count": null,
      "outputs": [
        {
          "output_type": "stream",
          "name": "stdout",
          "text": [
            "! d l r o W   , o l l e H\n",
            "<list_reverseiterator object at 0x7f46e73e0c40>\n"
          ]
        }
      ]
    },
    {
      "cell_type": "code",
      "source": [
        "x=[1,2,3,4]\n",
        "y=x.pop(1)\n",
        "print(x)\n",
        "z=x.remove(3)\n",
        "print(y,z)"
      ],
      "metadata": {
        "colab": {
          "base_uri": "https://localhost:8080/"
        },
        "id": "e7a9x8JVyrNp",
        "outputId": "83ec271e-24b1-41c3-ddf5-55bbb50ea9f6"
      },
      "execution_count": null,
      "outputs": [
        {
          "output_type": "stream",
          "name": "stdout",
          "text": [
            "[1, 3, 4]\n",
            "\n"
          ]
        }
      ]
    },
    {
      "cell_type": "code",
      "source": [],
      "metadata": {
        "id": "CW7Zm6GeKe9V"
      },
      "execution_count": null,
      "outputs": []
    },
    {
      "cell_type": "code",
      "source": [],
      "metadata": {
        "id": "y3gy1ifSAqIz"
      },
      "execution_count": null,
      "outputs": []
    },
    {
      "cell_type": "code",
      "source": [],
      "metadata": {
        "id": "oxkcIxUBywRt"
      },
      "execution_count": null,
      "outputs": []
    },
    {
      "cell_type": "code",
      "source": [
        "# Python program for implementation of MergeSort\n",
        "\n",
        "\n",
        "def mergeSort(arr):\n",
        "    if len(arr) > 1:\n",
        "\n",
        "        # Finding the mid of the array\n",
        "        mid = len(arr)//2\n",
        "\n",
        "        # Dividing the array elements\n",
        "        L = arr[:mid]\n",
        "\n",
        "        # Into 2 halves\n",
        "        R = arr[mid:]\n",
        "\n",
        "        # Sorting the first half\n",
        "        mergeSort(L)\n",
        "\n",
        "        # Sorting the second half\n",
        "        mergeSort(R)\n",
        "\n",
        "        i = j = k = 0\n",
        "\n",
        "        # Copy data to temp arrays L[] and R[]\n",
        "        while i < len(L) and j < len(R):\n",
        "            if L[i] <= R[j]:\n",
        "                arr[k] = L[i]\n",
        "                i += 1\n",
        "            else:\n",
        "                arr[k] = R[j]\n",
        "                j += 1\n",
        "            k += 1\n",
        "\n",
        "        # Checking if any element was left\n",
        "        while i < len(L):\n",
        "            arr[k] = L[i]\n",
        "            i += 1\n",
        "            k += 1\n",
        "\n",
        "        while j < len(R):\n",
        "            arr[k] = R[j]\n",
        "            j += 1\n",
        "            k += 1\n",
        "\n",
        "\n",
        "# Code to print the list\n",
        "def printList(arr):\n",
        "    for i in range(len(arr)):\n",
        "        print(arr[i], end=\" \")\n",
        "    print()\n",
        "\n",
        "\n",
        "# Driver Code\n",
        "if __name__ == '__main__':\n",
        "    arr = [12, 11, 13, 5, 6, 7,1]\n",
        "    print(\"Given array is\")\n",
        "    printList(arr)\n",
        "    mergeSort(arr)\n",
        "    print(\"\\nSorted array is \")\n",
        "    printList(arr)"
      ],
      "metadata": {
        "colab": {
          "base_uri": "https://localhost:8080/"
        },
        "id": "yOKaAxd5KABv",
        "outputId": "2587a9f2-cec1-44b3-93e7-415c2a2e54da"
      },
      "execution_count": null,
      "outputs": [
        {
          "output_type": "stream",
          "name": "stdout",
          "text": [
            "Given array is\n",
            "12 11 13 5 6 7 1 \n",
            "\n",
            "Sorted array is \n",
            "1 5 6 7 11 12 13 \n"
          ]
        }
      ]
    },
    {
      "cell_type": "code",
      "source": [
        "# Python3 program for implementation of Shell Sort\n",
        "# Python3 program for implementation of Shell Sort\n",
        "\n",
        "def shellSort(arr, n):\n",
        "    # code here\n",
        "    gap=n//2\n",
        "\n",
        "\n",
        "    while gap>0:\n",
        "        j=gap\n",
        "        # Check the array in from left to right\n",
        "        # Till the last possible index of j\n",
        "        while j<n:\n",
        "            i=j-gap # This will keep help in maintain gap value\n",
        "\n",
        "            while i>=0:\n",
        "                print(arr[i],arr[i+gap])\n",
        "                # If value on right side is already greater than left side value\n",
        "                # We don't do swap else we swap\n",
        "                if arr[i+gap]>arr[i]:\n",
        "\n",
        "                    break\n",
        "                else:\n",
        "                    arr[i+gap],arr[i]=arr[i],arr[i+gap]\n",
        "\n",
        "                i=i-gap # To check left side also\n",
        "                            # If the element present is greater than current element\n",
        "            j+=1\n",
        "            print(arr2)\n",
        "        gap=gap//2\n",
        "\n",
        "\n",
        "\n",
        "\n",
        "\n",
        "# driver to check the code\n",
        "arr2 = [12, 34, 54, 2, 3]\n",
        "print(\"input array:\",arr2)\n",
        "\n",
        "shellSort(arr2,len(arr2))\n",
        "print(\"sorted array\",arr2)\n",
        "\n",
        "# This code is contributed by Illion"
      ],
      "metadata": {
        "colab": {
          "base_uri": "https://localhost:8080/"
        },
        "id": "ZOJrZqzROM53",
        "outputId": "a4cfc05b-b239-4bee-9e3b-e24f314ed99d"
      },
      "execution_count": null,
      "outputs": [
        {
          "output_type": "stream",
          "name": "stdout",
          "text": [
            "input array: [12, 34, 54, 2, 3]\n",
            "12 54\n",
            "[12, 34, 54, 2, 3]\n",
            "34 2\n",
            "[12, 2, 54, 34, 3]\n",
            "54 3\n",
            "12 3\n",
            "[3, 2, 12, 34, 54]\n",
            "3 2\n",
            "[2, 3, 12, 34, 54]\n",
            "3 12\n",
            "[2, 3, 12, 34, 54]\n",
            "12 34\n",
            "[2, 3, 12, 34, 54]\n",
            "34 54\n",
            "[2, 3, 12, 34, 54]\n",
            "sorted array [2, 3, 12, 34, 54]\n"
          ]
        }
      ]
    },
    {
      "cell_type": "code",
      "source": [],
      "metadata": {
        "id": "5drViVLkypq1"
      },
      "execution_count": null,
      "outputs": []
    },
    {
      "cell_type": "code",
      "source": [],
      "metadata": {
        "id": "aDfpdqrryqXi"
      },
      "execution_count": null,
      "outputs": []
    },
    {
      "cell_type": "code",
      "source": [
        "# Python3 program to sort an array\n",
        "# using bucket sort\n",
        "\n",
        "\n",
        "def insertionSort(b):\n",
        "\tfor i in range(1, len(b)):\n",
        "\t\tup = b[i]\n",
        "\t\tj = i - 1\n",
        "\t\twhile j >= 0 and b[j] > up:\n",
        "\t\t\tb[j + 1] = b[j]\n",
        "\t\t\tj -= 1\n",
        "\t\tb[j + 1] = up\n",
        "\treturn b\n",
        "\n",
        "\n",
        "def bucketSort(x):\n",
        "\tarr = []\n",
        "\tslot_num = 10 # 10 means 10 slots, each\n",
        "\t# slot's size is 0.1\n",
        "\tfor i in range(slot_num):\n",
        "\t\tarr.append([])\n",
        "\n",
        "\t# Put array elements in different buckets\n",
        "\tfor j in x:\n",
        "\t\tindex_b = int(slot_num * j)\n",
        "\t\tarr[index_b].append(j)\n",
        "\n",
        "\t# Sort individual buckets\n",
        "\tfor i in range(slot_num):\n",
        "\t\tarr[i] = insertionSort(arr[i])\n",
        "\n",
        "\t# concatenate the result\n",
        "\tk = 0\n",
        "\tfor i in range(slot_num):\n",
        "\t\tfor j in range(len(arr[i])):\n",
        "\t\t\tx[k] = arr[i][j]\n",
        "\t\t\tk += 1\n",
        "\treturn x\n",
        "\n",
        "\n",
        "# Driver Code\n",
        "x = [0.897, 0.565, 0.656,\n",
        "\t0.1234, 0.665, 0.3434]\n",
        "print(\"Sorted Array is\")\n",
        "print(bucketSort(x))\n",
        "\n",
        "# This code is contributed by\n",
        "# Oneil Hsiao\n"
      ],
      "metadata": {
        "id": "S5G0fW0IhgUZ"
      },
      "execution_count": null,
      "outputs": []
    },
    {
      "cell_type": "code",
      "source": [
        "def insertionSort(arr):\n",
        "    n = len(arr) # Get the length of the array\n",
        "\n",
        "     # If the array has 0 or 1 element, it is already sorted, so return\n",
        "\n",
        "    for i in range(1, n): # Iterate over the array starting from the second element # Store the current element as the key to be inserted in the right position\n",
        "        j = i\n",
        "        while j>0 and arr[j-1]>arr[j]: # Move elements greater than key one position ahead\n",
        "            arr[j-1],arr[j] = arr[j],arr[j-1] # Shift elements to the right\n",
        "            j -= 1\n",
        "\n",
        "    return arr\n",
        "def bucketSort(x):\n",
        "    arr = []\n",
        "    slot_num = 10 # 10 means 10 slots, each\n",
        "    # slot's size is 0.1\n",
        "    for i in range(slot_num):\n",
        "        arr.append([])\n",
        "    print(arr)\n",
        "    # Put array elements in different buckets\n",
        "    for j in x:\n",
        "        index_b = int(slot_num * j)\n",
        "        arr[index_b].append(j)\n",
        "    print(arr)\n",
        "    # Sort individual buckets\n",
        "    for i in range(slot_num):\n",
        "        arr[i] = insertionSort(arr[i])\n",
        "\n",
        "    # concatenate the result\n",
        "    k = []\n",
        "\n",
        "    for i in arr:\n",
        "        k.extend(i)\n",
        "    return k\n",
        "\n",
        "\n",
        "# Driver Code\n",
        "x = [0.897, 0.565, 0.656,\n",
        "    0.1234, 0.665, 0.3434]\n",
        "print(\"Sorted Array is\")\n",
        "print(bucketSort(x))\n",
        "\n",
        "# This code is contributed by\n",
        "# Oneil Hsiao"
      ],
      "metadata": {
        "colab": {
          "base_uri": "https://localhost:8080/"
        },
        "id": "a72GBt7MSyNw",
        "outputId": "109f915a-f255-41ce-e285-4de132d8a520"
      },
      "execution_count": null,
      "outputs": [
        {
          "output_type": "stream",
          "name": "stdout",
          "text": [
            "Sorted Array is\n",
            "[[], [], [], [], [], [], [], [], [], []]\n",
            "[[], [0.1234], [], [0.3434], [], [0.565], [0.656, 0.665], [], [0.897], []]\n",
            "[0.1234, 0.3434, 0.565, 0.656, 0.665, 0.897]\n"
          ]
        }
      ]
    },
    {
      "cell_type": "code",
      "source": [],
      "metadata": {
        "id": "1NKzB2-dJ-wa"
      },
      "execution_count": null,
      "outputs": []
    },
    {
      "cell_type": "code",
      "source": [
        "def sort(lst):\n",
        "    for i in range(len(lst)-1):\n",
        "        minpos=i\n",
        "        for j in range(i,len(lst)):\n",
        "            if lst[j] < lst[minpos]:\n",
        "                minpos=j\n",
        "\n",
        "        lst[i],lst[minpos] = lst[minpos],lst[i]\n",
        "\n",
        "nums =  [64, 34, 25, 12, 22, 11, 90]\n",
        "sort(nums)\n",
        "print(nums)"
      ],
      "metadata": {
        "id": "wWxO4esylR1q"
      },
      "execution_count": null,
      "outputs": []
    },
    {
      "cell_type": "code",
      "source": [
        "def insertionSort(arr):\n",
        "\tn = len(arr) # Get the length of the array\n",
        "\n",
        "\tif n <= 1:\n",
        "\t\treturn # If the array has 0 or 1 element, it is already sorted, so return\n",
        "\n",
        "\tfor i in range(1, n): # Iterate over the array starting from the second element\n",
        "\t\tkey = arr[i] # Store the current element as the key to be inserted in the right position\n",
        "\t\tj = i-1\n",
        "\t\twhile j >= 0 and key < arr[j]: # Move elements greater than key one position ahead\n",
        "\t\t\tarr[j+1] = arr[j] # Shift elements to the right\n",
        "\t\t\tj -= 1\n",
        "\t\tarr[j+1] = key # Insert the key in the correct position\n",
        "\n",
        "# Sorting the array [12, 11, 13, 5, 6] using insertionSort\n",
        "arr = [12, 11, 13, 5, 6]\n",
        "insertionSort(arr)\n",
        "print(arr)\n"
      ],
      "metadata": {
        "id": "JUFVhYxilVqy"
      },
      "execution_count": null,
      "outputs": []
    },
    {
      "cell_type": "code",
      "source": [
        "# linear search\n",
        "# pos=0\n",
        "def search(list,n):\n",
        "\n",
        "  for i in range(len(list)):\n",
        "\n",
        "    if list[i]==n:\n",
        "      globals()['pos'] =i\n",
        "      return True\n",
        "\n",
        "  return False\n",
        "\n",
        "list=[1,3,5,6,8]\n",
        "n=8\n",
        "if search(list,n):\n",
        "  print('found at ',pos)\n",
        "else:\n",
        "  print('not found')"
      ],
      "metadata": {
        "id": "sjrhKFwIlkPi",
        "colab": {
          "base_uri": "https://localhost:8080/"
        },
        "outputId": "8b9fa1e7-4e90-492b-86f3-4014d74e59f1"
      },
      "execution_count": null,
      "outputs": [
        {
          "output_type": "stream",
          "name": "stdout",
          "text": [
            "found at  4\n"
          ]
        }
      ]
    },
    {
      "cell_type": "code",
      "source": [
        "def insertionSort(arr):\n",
        "    n = len(arr) # Get the length of the array\n",
        "\n",
        "     # If the array has 0 or 1 element, it is already sorted, so return\n",
        "\n",
        "    for i in range(1, n): # Iterate over the array starting from the second element # Store the current element as the key to be inserted in the right position\n",
        "        j = i\n",
        "        while j>0 and arr[j-1]>arr[j]: # Move elements greater than key one position ahead\n",
        "            arr[j-1],arr[j] = arr[j],arr[j-1] # Shift elements to the right\n",
        "            j -= 1\n",
        "          # Insert the key in the correct position\n",
        "\n",
        "# Sorting the array [12, 11, 13, 5, 6] using insertionSort\n",
        "arr = [12, 11, 13, 5, 6]\n",
        "insertionSort(arr)\n",
        "print(arr)"
      ],
      "metadata": {
        "id": "wrFj6tEPY0uv"
      },
      "execution_count": null,
      "outputs": []
    },
    {
      "cell_type": "code",
      "source": [
        "strs = [\"flower\",\"flow\",\"flight\"]\n",
        "print(sorted(strs,key=len))"
      ],
      "metadata": {
        "colab": {
          "base_uri": "https://localhost:8080/"
        },
        "id": "NfZ7Rl4XgztG",
        "outputId": "8c99ea07-7f4e-4c4e-dc6a-65f93703db74"
      },
      "execution_count": null,
      "outputs": [
        {
          "output_type": "stream",
          "name": "stdout",
          "text": [
            "['flow', 'flower', 'flight']\n"
          ]
        }
      ]
    },
    {
      "cell_type": "code",
      "source": [
        "# Read the number of rectangles\n",
        "n = int(input())\n",
        "\n",
        "# Initialize variables to store the coordinates of the common rectangle\n",
        "common_x1, common_y1 = -1, -1\n",
        "common_x2, common_y2 = -1, -1\n",
        "\n",
        "# Loop through each rectangle\n",
        "for i in range(n):\n",
        "    x1, y1, x2, y2 = map(int, input().split())\n",
        "\n",
        "    # Update the coordinates of the common rectangle\n",
        "    if common_x1 == -1:\n",
        "        common_x1, common_y1, common_x2, common_y2 = x1, y1, x2, y2\n",
        "    else:\n",
        "        # Find the intersection between the current rectangle and the common rectangle\n",
        "        common_x1 = max(common_x1, x1)\n",
        "        common_y1 = max(common_y1, y1)\n",
        "        common_x2 = min(common_x2, x2)\n",
        "        common_y2 = min(common_y2, y2)\n",
        "\n",
        "# Calculate the area of the common rectangle\n",
        "common_area = max(0, common_x2 - common_x1) * max(0, common_y2 - common_y1)\n",
        "\n",
        "# Output the result\n",
        "print(common_area)\n"
      ],
      "metadata": {
        "id": "uiCPuPd_SfH3"
      },
      "execution_count": null,
      "outputs": []
    },
    {
      "cell_type": "code",
      "source": [
        "a=['pyt','zer','tony']\n",
        "print(max(a,key=len))"
      ],
      "metadata": {
        "id": "EEaYnz5qNTq-",
        "colab": {
          "base_uri": "https://localhost:8080/"
        },
        "outputId": "e97080d7-396a-460e-d38c-7884fde628a1"
      },
      "execution_count": null,
      "outputs": [
        {
          "output_type": "stream",
          "name": "stdout",
          "text": [
            "tony\n"
          ]
        }
      ]
    },
    {
      "cell_type": "code",
      "source": [
        "from collections import Counter\n",
        "\n",
        "# Create a Counter object for a list of elements\n",
        "my_list = [1, 2, 3, 1, 2, 3, 1, 2, 3, 4, 4, 5]\n",
        "element_counts = Counter(my_list)\n",
        "print(element_counts)\n",
        "# Access the counts of specific elements\n",
        "print(element_counts[1])  # Prints 3 (count of 1 in the list)\n",
        "print(element_counts[4])  # Prints 2 (count of 4 in the list)\n",
        "print(element_counts[6])  # Prints 0 (count of 6 in the list)\n",
        "\n",
        "# Get a list of unique elements and their counts\n",
        "unique_elements = element_counts.keys()\n",
        "print(unique_elements)  # Prints dict_keys([1, 2, 3, 4, 5])\n",
        "\n",
        "for i,j in element_counts.items():\n",
        "  if i==4:\n",
        "    print(j)"
      ],
      "metadata": {
        "id": "bcIlqCu_N474",
        "colab": {
          "base_uri": "https://localhost:8080/"
        },
        "outputId": "9d8db17d-88a1-4f9d-8e9a-21c91ab7e1a6"
      },
      "execution_count": null,
      "outputs": [
        {
          "output_type": "stream",
          "name": "stdout",
          "text": [
            "Counter({1: 3, 2: 3, 3: 3, 4: 2, 5: 1})\n",
            "3\n",
            "2\n",
            "0\n",
            "dict_keys([1, 2, 3, 4, 5])\n",
            "2\n"
          ]
        }
      ]
    },
    {
      "cell_type": "code",
      "execution_count": null,
      "metadata": {
        "colab": {
          "base_uri": "https://localhost:8080/"
        },
        "id": "fZ74aj0QYHcz",
        "outputId": "48bfb79f-002a-42e6-dcac-c126011c2a51"
      },
      "outputs": [
        {
          "output_type": "stream",
          "name": "stdout",
          "text": [
            "Enter a decimal number: 7\n",
            "Enter a decimal number: 10\n",
            "The binary representation of 7 and 10 is ['1', '1', '1'] ,['1', '0', '1', '0']\n",
            "The binary representation of 7 and 10 is [0, '1', '1', '1'] ,['1', '0', '1', '0']\n",
            "3\n"
          ]
        }
      ],
      "source": [
        "decimal_number1 = int(input(\"Enter a decimal number: \"))\n",
        "decimal_number2 = int(input(\"Enter a decimal number: \"))\n",
        "binary_representation = list(bin(decimal_number1)[2:])\n",
        "binary_representation2 = list(bin(decimal_number2)[2:])\n",
        "\n",
        "print(f\"The binary representation of {decimal_number1} and {decimal_number2} is {binary_representation} ,{binary_representation2}\")\n",
        "for i in range(min(decimal_number1,decimal_number2)):\n",
        "  if len(binary_representation)==len(binary_representation2):\n",
        "    break\n",
        "  elif len(binary_representation)<len(binary_representation2):\n",
        "    binary_representation.insert(0,0)\n",
        "  elif len(binary_representation2)<len(binary_representation):\n",
        "    binary_representation2.insert(0,0)\n",
        "\n",
        "print(f\"The binary representation of {decimal_number1} and {decimal_number2} is {binary_representation} ,{binary_representation2}\")\n",
        "\n",
        "c=0\n",
        "for j in range(len(binary_representation)):\n",
        "    if binary_representation[j]!=binary_representation2[j]:\n",
        "      c+=1\n",
        "print(c)"
      ]
    },
    {
      "cell_type": "code",
      "source": [
        "a=38\n",
        "\n",
        "print(~a)\n",
        "\n",
        "b=12 & 13\n",
        "print(b)\n",
        "\n",
        "print(5>>2)"
      ],
      "metadata": {
        "colab": {
          "base_uri": "https://localhost:8080/"
        },
        "id": "Gc6UcYOudhzT",
        "outputId": "80317b81-7657-438c-e993-2a1959d3d833"
      },
      "execution_count": null,
      "outputs": [
        {
          "output_type": "stream",
          "name": "stdout",
          "text": [
            "-39\n",
            "12\n",
            "1\n"
          ]
        }
      ]
    },
    {
      "cell_type": "code",
      "source": [
        "binary_number = input(\"Enter a binary number: \")\n",
        "decimal_number = int(binary_number, 2)\n",
        "print(f\"The decimal representation of {binary_number} is {decimal_number}\")\n",
        "\n",
        "binary_number = int(input(\"Enter a binary number: \"))\n",
        "decimal_number = binary_number, 10\n",
        "print(f\"The decimal representation of {binary_number} is {decimal_number}\")"
      ],
      "metadata": {
        "colab": {
          "base_uri": "https://localhost:8080/"
        },
        "id": "bxclNpeYpa3S",
        "outputId": "fc6a4ce9-c239-4552-ce56-6bbd49a6640b"
      },
      "execution_count": null,
      "outputs": [
        {
          "output_type": "stream",
          "name": "stdout",
          "text": [
            "Enter a binary number: 111\n",
            "The decimal representation of 111 is 7\n",
            "Enter a binary number: 7\n",
            "The decimal representation of 7 is (7, 10)\n"
          ]
        }
      ]
    },
    {
      "cell_type": "code",
      "execution_count": null,
      "metadata": {
        "colab": {
          "base_uri": "https://localhost:8080/"
        },
        "id": "TaDJnnRbOaxC",
        "outputId": "6adb139c-dc21-40d9-fe02-44fe3edf6e7b"
      },
      "outputs": [
        {
          "name": "stdout",
          "output_type": "stream",
          "text": [
            "{'value': 22}\n",
            "{'value': 22}\n",
            "133977491176000\n",
            "133977491176000\n",
            "{'value': 44}\n",
            "{'value': 44}\n",
            "133977491176000\n",
            "133977491176000\n",
            "\n",
            "\n",
            "\n",
            "\n",
            "22\n",
            "22\n",
            "133978761888656\n",
            "133978761888656\n",
            "22\n",
            "44\n",
            "133978761888656\n",
            "133978761889360\n"
          ]
        }
      ],
      "source": [
        "#for dictionary\n",
        "\n",
        "mydict1 = {\n",
        "    'value':22\n",
        "}\n",
        "mydict2=mydict1\n",
        "print(mydict1)\n",
        "print(mydict2)\n",
        "print(id(mydict1))\n",
        "print(id(mydict2))\n",
        "\n",
        "mydict2['value']=44\n",
        "\n",
        "print(mydict1)\n",
        "print(mydict2)\n",
        "print(id(mydict1))\n",
        "print(id(mydict2))\n",
        "\n",
        "for i in range(2):\n",
        "  print(\"\\n\")\n",
        "\n",
        "#for int\n",
        "\n",
        "int1=22\n",
        "int2=int1\n",
        "print(int1)\n",
        "print(int2)\n",
        "print(id(int1))\n",
        "print(id(int2))\n",
        "\n",
        "int2=44\n",
        "print(int1)\n",
        "print(int2)\n",
        "print(id(int1))\n",
        "print(id(int2))"
      ]
    },
    {
      "cell_type": "markdown",
      "metadata": {
        "id": "ijRRmAxNr3CA"
      },
      "source": [
        "linked list doesnt have index .list have index\n",
        "list are in contiguous memory so we use index\n",
        "linked list are spread across but we find it by help of pointing\n",
        "\n",
        "at end or head there is o(1) because no matter of number of nodes we are adding only one at end\n",
        "\n",
        "remvoing from end is o(n) because we need iterate all over\n",
        "remvoing from head is o(1)\n",
        "middle inserting or deleting o(n)\n",
        "\n",
        "node = value + pointer basically a dictionary value =4 ,next =None"
      ]
    },
    {
      "cell_type": "code",
      "execution_count": null,
      "metadata": {
        "colab": {
          "base_uri": "https://localhost:8080/"
        },
        "id": "j1lRjMgfXNsr",
        "outputId": "ab128288-736a-446c-a127-103e541c6c10"
      },
      "outputs": [
        {
          "name": "stdout",
          "output_type": "stream",
          "text": [
            "66\n"
          ]
        }
      ],
      "source": [
        "head={\n",
        "    'value':22,\n",
        "    'next':{\n",
        "        'value':44,\n",
        "        'next':{\n",
        "            'value':66,\n",
        "            'next':None\n",
        "\n",
        "          }\n",
        "    }\n",
        "}\n",
        "print(head['next']['next']['value'])\n",
        "# print(mylinkedlist.next.value)\n"
      ]
    },
    {
      "cell_type": "markdown",
      "metadata": {
        "id": "rBH2PCfrYeZw"
      },
      "source": [
        "self = method inside a class instead of function"
      ]
    }
  ],
  "metadata": {
    "colab": {
      "provenance": [],
      "authorship_tag": "ABX9TyPGBdy+i2eH7HdTFRT+P9PY",
      "include_colab_link": true
    },
    "kernelspec": {
      "display_name": "Python 3",
      "name": "python3"
    },
    "language_info": {
      "name": "python"
    }
  },
  "nbformat": 4,
  "nbformat_minor": 0
}